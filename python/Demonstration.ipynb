{
 "cells": [
  {
   "cell_type": "markdown",
   "metadata": {},
   "source": [
    "# Demonstration"
   ]
  },
  {
   "cell_type": "markdown",
   "metadata": {
    "tags": []
   },
   "source": [
    "## Setup\n",
    "\n",
    "When working in development mode, run the below to allow reloading of any\n",
    "JavaScript/Python changes. Otherwise just import as usual."
   ]
  },
  {
   "cell_type": "code",
   "execution_count": 1,
   "metadata": {},
   "outputs": [],
   "source": [
    "# Enable python import reloading\n",
    "%load_ext autoreload\n",
    "%autoreload 2\n",
    "\n",
    "# Imports\n",
    "from circuitsvis import render\n",
    "from pathlib import Path\n",
    "from einops import rearrange\n",
    "import numpy as np\n",
    "import json"
   ]
  },
  {
   "cell_type": "markdown",
   "metadata": {
    "tags": []
   },
   "source": [
    "## Mechanistic Interpretability: Built In Visualizations"
   ]
  },
  {
   "cell_type": "markdown",
   "metadata": {},
   "source": [
    "### Hello example"
   ]
  },
  {
   "cell_type": "code",
   "execution_count": 2,
   "metadata": {},
   "outputs": [],
   "source": [
    "# examples.Hello(name=\"Bob\")"
   ]
  },
  {
   "cell_type": "markdown",
   "metadata": {},
   "source": [
    "### Activations"
   ]
  },
  {
   "cell_type": "markdown",
   "metadata": {},
   "source": [
    "#### Text Neuron Activations"
   ]
  },
  {
   "cell_type": "code",
   "execution_count": 3,
   "metadata": {},
   "outputs": [],
   "source": [
    "# tokens = ['A', 'B', 'C', 'D', 'E', 'F', 'G', 'H']\n",
    "# token_activations = np.random.normal(loc=0.3, scale=0.2, size=(8,))\n",
    "\n",
    "# activations.TextNeuronActivations(tokens=tokens, activations=token_activations, neuron_name=\"1234\")"
   ]
  },
  {
   "cell_type": "markdown",
   "metadata": {},
   "source": [
    "### Attention"
   ]
  },
  {
   "cell_type": "markdown",
   "metadata": {},
   "source": [
    "#### Attention Patterns"
   ]
  },
  {
   "cell_type": "code",
   "execution_count": 55,
   "metadata": {},
   "outputs": [
    {
     "name": "stdout",
     "output_type": "stream",
     "text": [
      "index.umd.js\n"
     ]
    },
    {
     "data": {
      "text/html": [
       "\n",
       "                <div id=\"circuitsvis-683761\"/>\n",
       "                <script crossorigin type=\"module\">\n",
       "                // Import React\n",
       "                import \"https://unpkg.com/react@18/umd/react.production.min.js\";\n",
       "                import \"https://unpkg.com/react-dom@18/umd/react-dom.production.min.js\";\n",
       "\n",
       "                // Load bundled components\n",
       "                !function(e,t){\"object\"==typeof exports&&\"undefined\"!=typeof module?t(exports,require(\"react\"),require(\"@tensorflow/tfjs\"),require(\"tinycolor2\")):\"function\"==typeof define&&define.amd?define([\"exports\",\"react\",\"@tensorflow/tfjs\",\"tinycolor2\"],t):t((e=\"undefined\"!=typeof globalThis?globalThis:e||self).CircuitsVis={},e.React,e.tfjs,e.tinycolor)}(this,(function(e,t,n,o){\"use strict\";function r({coloredAttention:e,style:o={},isSelected:r=!1}){const l=t.useRef(null);return t.useEffect((()=>{const t=l.current;n.browser.toPixels(e.toInt(),t)}),[e]),t.createElement(\"canvas\",{ref:l,style:{imageRendering:\"pixelated\",borderColor:r?\"rgba(0,0,200,0.5)\":\"#DDD\",borderStyle:\"solid\",borderWidth:1,boxShadow:r?\"0px 0px 3px 3px rgba(0,0,200,0.4)\":void 0,width:200,...o}})}var l;function s({focusedToken:e,onClickToken:n,onMouseEnterToken:r,onMouseLeaveToken:s,maxAttentionAcrossHeads:i,text:c,tokenIndex:a,tokensView:u}){const d=null!==e&&e===a,f=function(e,t,n,o){let r=t,s=t,i=0,c=t;return\"number\"==typeof o&&n===l.DESTINATION_TO_SOURCE?(r=o,s=o,i=t,c=t):\"number\"==typeof o&&n===l.SOURCE_TO_DESTINATION&&(r=t,s=t,i=o,c=o),e.slice([r,i],[s+1-r,c+1-i])}(i,a,u,e),m=f.mean(0).mean(0),[E,T,k]=m.arraySync(),p=o({r:E,g:T,b:k}),y=p.getBrightness()<180?\"white\":\"black\";return t.createElement(\"button\",{style:{backgroundColor:p.toRgbString(),borderColor:\"#DDD\",borderStyle:\"solid\",borderWidth:0,borderRightWidth:1,color:y,display:\"inline-block\",marginBottom:3,padding:\"3px 0px\",boxShadow:d?\"0px 0px 3px 3px rgba(0,0,200,0.4)\":void 0},onClick:()=>n(a),onMouseEnter:()=>r(a),onMouseLeave:s,dangerouslySetInnerHTML:{__html:c.replace(\" \",\"&nbsp;\")}})}function i({coloredAttention:e,focusedHead:o,focusedToken:r,onClickToken:l,onMouseEnterToken:i,onMouseLeaveToken:c,tokens:a,tokensView:u}){const d=\"number\"==typeof o?e.slice([o],[1]):e,f=n.einsum(\"hdsc -> dsch\",d).min(3);return t.createElement(\"div\",null,a.map(((e,n)=>t.createElement(s,{focusedToken:r,onClickToken:l,onMouseEnterToken:i,onMouseLeaveToken:c,key:n,maxAttentionAcrossHeads:f,text:e,tokenIndex:n,tokensView:u}))))}function c(){const[e,n]=t.useState(),[o,r]=t.useState();return{focused:null!=o?o:e,onClick:function(e){r(o===e?void 0:e)},onMouseEnter:function(e){n(e)},onMouseLeave:function(){n(void 0)}}}!function(e){e.DESTINATION_TO_SOURCE=\"DESTINATION_TO_SOURCE\",e.SOURCE_TO_DESTINATION=\"SOURCE_TO_DESTINATION\"}(l||(l={})),e.AttentionPatterns=function({tokens:e,attention:s}){const[a,u]=t.useState(l.DESTINATION_TO_SOURCE),{focused:d,onClick:f,onMouseEnter:m,onMouseLeave:E}=c(),{focused:T,onClick:k,onMouseEnter:p,onMouseLeave:y}=c(),S=t.useMemo((()=>function(e){const t=n.tensor(e).arraySync(),r=t.map(((e,n)=>e.map((e=>e.map((e=>{const r=o({h:n/t.length*360,s:.8,l:1-e}),{r:l,g:s,b:i}=r.toRgb();return[l,s,i]}))))));return n.tensor(r)}(s)),[s]),g=S.unstack(0),b=n.einsum(\"hdsc -> dsch\",S).min(3),h=\"number\"==typeof d?b:g[d];return t.createElement(\"div\",null,t.createElement(\"div\",{style:{display:\"flex\"}},t.createElement(\"div\",null,t.createElement(\"h4\",null,\"Attention Patterns\"),t.createElement(r,{coloredAttention:h})),t.createElement(\"div\",{style:{marginLeft:15}},t.createElement(\"h4\",null,\"Head selector\",t.createElement(\"span\",{style:{fontWeight:\"normal\"}},\" \",\"(hover to focus, click to lock)\")),t.createElement(\"div\",{style:{display:\"flex\",flexWrap:\"wrap\"}},g.map(((e,n)=>t.createElement(\"figure\",{key:n,style:{margin:0,marginRight:15},onClick:()=>f(n),onMouseEnter:()=>m(n),onMouseLeave:E},t.createElement(r,{coloredAttention:e,style:{width:80},isSelected:n===d}),t.createElement(\"figcaption\",null,\"Head \",n))))))),t.createElement(\"div\",{className:\"tokens\"},t.createElement(\"h4\",{style:{display:\"inline-block\",marginRight:15}},\"Tokens\",t.createElement(\"span\",{style:{fontWeight:\"normal\"}},\" (click to focus)\")),t.createElement(\"select\",{value:a,onChange:e=>u(e.target.value)},t.createElement(\"option\",{value:l.DESTINATION_TO_SOURCE},\"Source ← Destination\"),t.createElement(\"option\",{value:l.SOURCE_TO_DESTINATION},\"Destination ← Source\")),t.createElement(\"div\",null,t.createElement(i,{coloredAttention:S,focusedHead:d,focusedToken:T,onClickToken:k,onMouseEnterToken:p,onMouseLeaveToken:y,tokens:e,tokensView:a}))))},e.Hello=function({name:e}){const[n,o]=t.useState(1);return t.createElement(\"p\",null,\"Hello, \",e,\"!\")}}));\n",
       "//# sourceMappingURL=index.umd.js.map\n",
       "\n",
       "                \n",
       "                console.log(CircuitsVis);\n",
       "\n",
       "                // Render the specific component\n",
       "                const domContainer = document.querySelector('#circuitsvis-683761');\n",
       "                const root = ReactDOM.createRoot(domContainer);\n",
       "                const e = React.createElement;\n",
       "                root.render(e(CircuitsVis.AttentionPatterns, {\"tokens\": [\"A\", \"B\", \"C\", \"D\", \"E\", \"F\", \"G\", \"H\"], \"attention\": [[[0.02384810410775723, 0.0, 0.0, 0.0, 0.0, 0.0, 0.0, 0.0], [0.208761280643741, 0.10823095632931354, 0.0, 0.0, 0.0, 0.0, 0.0, 0.0], [0.05197374810567601, -0.02580310661281149, 0.20381618174312693, 0.0, 0.0, 0.0, 0.0, 0.0], [0.3175804495475208, 0.16402326340423254, 0.17845447694066988, 0.03424915089315239, 0.0, 0.0, 0.0, 0.0], [0.16247258244089616, 0.5545461301370758, 0.14515927859636266, 0.08217442408691922, 0.2247256716293984, 0.0, 0.0, 0.0], [0.5252140654604165, 0.03548673736001978, 0.20987360048543122, 0.2374723078631758, 0.02739084122561941, 0.38165521573059935, 0.0, 0.0], [0.26850437896782625, 0.5395265795539372, 0.362638996912278, 0.45331391640046576, 0.2964908660141845, 0.37103717994429775, 0.1614396173782876, 0.0], [0.42585375881013116, 0.4749606576596923, 0.1324995574018126, 0.5333324143406737, 0.35370405832609964, 0.10985606125492531, 0.23861951630105196, 0.2949281902243312]], [[0.1961572051909724, 0.0, 0.0, 0.0, 0.0, 0.0, 0.0, 0.0], [0.4713459608607886, 0.6707252347433956, 0.0, 0.0, 0.0, 0.0, 0.0, 0.0], [0.4187341874885188, 0.5050686417348836, 0.32601140325247685, 0.0, 0.0, 0.0, 0.0, 0.0], [0.1839228149164921, 0.26026297020065076, 0.28948993332336426, 0.3159647705960103, 0.0, 0.0, 0.0, 0.0], [0.3045204476414825, 0.4814249619488489, 0.491659183362577, 0.688667418779051, 0.3533087389202378, 0.0, 0.0, 0.0], [0.28451395825919323, 0.1783857752707908, 0.5056139898310642, 0.5568230163809138, 0.2535872988959698, 0.4077718743791573, 0.0, 0.0], [0.04608747457432483, 0.22606157144615105, 0.42969068317342946, 0.5084919450643403, 0.34958144090386395, 0.19765930687434655, 0.43139797902605515, 0.0], [0.23518733716673268, 0.38340042667877583, 0.39103319549347476, 0.22312589812009498, 0.42829656907736147, 0.6023099036081567, 0.18716195653357948, 0.5065625546367315]], [[0.1034707494386648, 0.0, 0.0, 0.0, 0.0, 0.0, 0.0, 0.0], [0.3630262651526995, 0.23072420398392102, 0.0, 0.0, 0.0, 0.0, 0.0, 0.0], [0.5809546615922243, 0.3183794002017345, 0.4922311348709376, 0.0, 0.0, 0.0, 0.0, 0.0], [0.20997160177448074, 0.35690301025993765, -0.06499218309273541, 0.5840966262986012, 0.0, 0.0, 0.0, 0.0], [0.15584770870568795, 0.11873836822175426, 0.30099421977127977, 0.2711718069271897, 0.30670818094799424, 0.0, 0.0, 0.0], [0.28967351829876925, 0.1876038008147967, 0.5587097180665423, 0.3586347187444586, 0.5294020668466949, 0.3588931588590278, 0.0, 0.0], [0.13436386054343402, 0.6734526534515913, 0.3494691742136643, 0.0076794517199683665, 0.4076801837438875, 0.4488870437588962, 0.3378486255378068, 0.0], [0.42879378141743374, 0.6087481870325173, 0.28302824488767386, 0.5207106266035954, 0.41850472607573563, 0.5709776869938238, 0.41938929647367446, -0.03043571459033989]], [[0.25955155199205865, 0.0, 0.0, 0.0, 0.0, 0.0, 0.0, 0.0], [0.3171438019757609, 0.29079432906023617, 0.0, 0.0, 0.0, 0.0, 0.0, 0.0], [0.23575977143034893, 0.1966016894592042, 0.4810269874148081, 0.0, 0.0, 0.0, 0.0, 0.0], [-0.14302929648480744, 0.13056845478524376, 0.26656198856748325, 0.6096310786940373, 0.0, 0.0, 0.0, 0.0], [0.25770693439669884, 0.2286970360192903, 0.45548561488684175, 0.4540181418121869, 0.32716791657728617, 0.0, 0.0, 0.0], [0.3415093098782204, 0.32082146799094463, 0.2739467832032569, 0.6187886306839678, 0.0992584392534292, 0.20663782849967438, 0.0, 0.0], [0.5629305604305243, -0.16535506143755846, 0.31586840441120095, 0.24544681805292068, 0.32271847468878523, 0.31852813870966634, 0.09821751870922663, 0.0], [0.5200331245080554, 0.10308745488550075, 0.4859487493032541, 0.10282999217922001, 0.2975356016286109, 0.12227849301903765, 0.7166306990770632, 0.6010911837467316]], [[0.596186213057827, 0.0, 0.0, 0.0, 0.0, 0.0, 0.0, 0.0], [0.09947510941181031, -0.04894356646709486, 0.0, 0.0, 0.0, 0.0, 0.0, 0.0], [0.2188195352607521, 0.41933837299107357, 0.30530285373705224, 0.0, 0.0, 0.0, 0.0, 0.0], [0.2522925778889419, 0.029828454530874515, 0.28631275132278555, 0.20224217894042076, 0.0, 0.0, 0.0, 0.0], [0.22069162724397484, 0.2311405214276239, 0.25760628690483833, 0.015702516986713655, 0.2909996340850268, 0.0, 0.0, 0.0], [0.2820979712955575, 0.4185172933576448, 0.2316821608770962, 0.4451860343328295, 0.20325029429332636, 0.5013046764461571, 0.0, 0.0], [0.5678105027572444, 0.6623594243908075, 0.09579223273887089, 0.3974120847816405, 0.2421366100658839, 0.4568644168187372, 0.2806296633539497, 0.0], [0.08442789269345419, 0.45447920340955894, -0.04796463116204158, 0.22902011358060392, -0.09008170771626095, 0.4295569427266034, -0.11579885128155615, 0.2286044089189402]], [[0.3232408504159419, 0.0, 0.0, 0.0, 0.0, 0.0, 0.0, 0.0], [0.2574416566449374, 0.32473600429726096, 0.0, 0.0, 0.0, 0.0, 0.0, 0.0], [0.30891238306805135, 0.12065253700920053, -0.06455109366101991, 0.0, 0.0, 0.0, 0.0, 0.0], [0.599541556886692, 0.1505702703790772, 0.32913920438553534, 0.4027260376563288, 0.0, 0.0, 0.0, 0.0], [0.2079319319878037, 0.3003906785263837, 0.004399331531588946, 0.3530467409483561, 0.09059027210313372, 0.0, 0.0, 0.0], [0.5410836044694324, 0.5415899819284625, 0.13986944773838256, 0.22240296889410233, 0.39267785942407574, 0.7678633023229293, 0.0, 0.0], [0.4634841108432418, 0.05625972891819042, 0.3368035617709622, 0.2943230073644208, 0.4979115178919515, 0.28302904637612974, 0.1916256798507373, 0.0], [0.47265231773348326, 0.22694919693766724, 0.23256485268078925, 0.45884049024894696, 0.3590648143141957, 0.5189300652041317, 0.5805617765422355, 0.1899334554489856]], [[0.2446858016448034, 0.0, 0.0, 0.0, 0.0, 0.0, 0.0, 0.0], [-0.05028454546891975, 0.17874955367724826, 0.0, 0.0, 0.0, 0.0, 0.0, 0.0], [0.4630465036958032, 0.3951310373221847, 0.3608324818094152, 0.0, 0.0, 0.0, 0.0, 0.0], [0.24344517557486695, 0.29150016923650524, 0.42567190730617466, 0.3906361392415757, 0.0, 0.0, 0.0, 0.0], [0.4754212807614614, 0.3096721703068396, -0.027031172608736276, 0.412066766055581, 0.07188412809046085, 0.0, 0.0, 0.0], [0.3386658652513543, 0.552889433147919, 0.2714971251258739, 0.06650572356633189, 0.2520554414268906, 0.23997388761510657, 0.0, 0.0], [-0.08221995525467524, 0.38943013372203633, 0.2878738627737168, 0.258924414605105, 0.7937504363331007, 0.2646433756800671, 0.2325969112329365, 0.0], [0.21683335503036227, 0.4364132467535197, 0.173753887722411, 0.31062357676901803, 0.3950446355590914, 0.07267606592831843, 0.2205401481391105, 0.6463062633640881]], [[0.6052907283991551, 0.0, 0.0, 0.0, 0.0, 0.0, 0.0, 0.0], [-0.08679055446919837, 0.35176388139372966, 0.0, 0.0, 0.0, 0.0, 0.0, 0.0], [0.14751968703388366, 0.3411494117241601, 0.5340157992001338, 0.0, 0.0, 0.0, 0.0, 0.0], [0.5742633833485473, 0.1875826517426537, 0.13609467131400277, 0.24034905056821612, 0.0, 0.0, 0.0, 0.0], [0.3402493984709571, 0.35764673196640895, 0.13872673192853643, 0.32986877407119825, 0.4233841971200383, 0.0, 0.0, 0.0], [0.6307497651451436, 0.5030458369670912, 0.22729574455308652, 0.2990811346527046, 0.05567341848926352, 0.4765260770501735, 0.0, 0.0], [0.43832502767376536, 0.3274291691602681, 0.41001747671347677, 0.26109815270817793, 0.01625264411125027, 0.6341811501552033, 0.3032393301853486, 0.0], [0.5540546688794329, 0.07694038976955808, 0.13161452969419105, 0.6941642174404574, 0.22496087889869743, -0.04930219386500767, 0.13588084569458148, 0.14411637407196726]], [[0.5904563048630255, 0.0, 0.0, 0.0, 0.0, 0.0, 0.0, 0.0], [0.5829385848169657, 0.2804701726128395, 0.0, 0.0, 0.0, 0.0, 0.0, 0.0], [0.3674202796581189, 0.6037005743110215, -0.09403454702030739, 0.0, 0.0, 0.0, 0.0, 0.0], [0.28694605954164154, 0.28439716438340357, 0.5723809467240311, 0.269671561986561, 0.0, 0.0, 0.0, 0.0], [0.5701833940427576, 0.3488186034529878, 0.3150765519986783, 0.3019866731298867, 0.5997089054110181, 0.0, 0.0, 0.0], [0.06178461055982362, 0.25395419556798876, 0.3405654119630253, 0.47480394236042184, 0.01167880637621499, 0.0459976686740704, 0.0, 0.0], [0.17421668674383284, 0.03386203828545664, 0.4186082520616094, 0.4092611324314217, 0.29756551322507185, 0.066118528511695, 0.04543555520451509, 0.0], [0.2828764245579936, 0.3760544628347363, 0.26126459873941676, 0.47289158397751163, 0.2746912162310352, 0.1832673450551422, 0.3286175006141968, 0.37639457272544913]], [[0.2636833243027444, 0.0, 0.0, 0.0, 0.0, 0.0, 0.0, 0.0], [0.04875319854297122, 0.3096842849936351, 0.0, 0.0, 0.0, 0.0, 0.0, 0.0], [0.28116717902128185, 0.4034900005900858, 0.6136045254109573, 0.0, 0.0, 0.0, 0.0, 0.0], [0.590133406231498, 0.41020616479170624, 0.36794860684601094, 0.21455266532465295, 0.0, 0.0, 0.0, 0.0], [0.22316661049389241, 0.33581548946510215, -0.014711906582372425, 0.4168731714430046, 0.032560286135621286, 0.0, 0.0, 0.0], [0.32570406552612396, 0.4016548089306005, 0.7609798110397634, 0.2894673122917959, -0.15125610388628163, 0.5678852411295925, 0.0, 0.0], [0.4372470223255256, 0.23073075996398446, 0.36533352954357695, 0.20675627521986373, 0.19629973964809422, 0.0777467166503307, 0.1863938828287293, 0.0], [0.3051147915772815, 0.17597716302969396, -0.028571973057594402, 0.5382961328320639, 0.4556622193037173, 0.5460883863152117, 0.0974076415021718, 0.22204286699979497]], [[0.5455459407926484, 0.0, 0.0, 0.0, 0.0, 0.0, 0.0, 0.0], [-0.016582579725641478, 0.36491915811535686, 0.0, 0.0, 0.0, 0.0, 0.0, 0.0], [0.1393841336539972, 0.4163935332870183, 0.30383273581418213, 0.0, 0.0, 0.0, 0.0, 0.0], [0.3157850842646116, 0.1665312930199697, 0.08395227293329782, 0.7646228687280445, 0.0, 0.0, 0.0, 0.0], [0.40195912209522366, 0.08204029769459822, 0.5456018889261237, 0.11731634360846405, 0.14544881214846989, 0.0, 0.0, 0.0], [0.137295699518682, 0.17521968360596663, 0.05738316551407954, -0.07247252136854088, 0.14163988954655649, 0.3966675616666169, 0.0, 0.0], [0.08387954866236436, 0.04618862758112785, 0.3095762489244209, 0.3141708512060405, 0.5533620913120808, 0.23451546472660892, 0.1902694457934901, 0.0], [0.4741165836146629, 0.024424888137360545, 0.25111467554848566, -0.15471348430441262, -0.05447506129988172, 0.9131804558309662, 0.46124471892173197, 0.6159158358025871]], [[0.19803544864794154, 0.0, 0.0, 0.0, 0.0, 0.0, 0.0, 0.0], [0.1275629030869057, 0.3095581254365958, 0.0, 0.0, 0.0, 0.0, 0.0, 0.0], [0.07546794615399557, 0.7117472741287704, 0.13522882718303209, 0.0, 0.0, 0.0, 0.0, 0.0], [0.4943862619011924, 0.4068555305655912, 0.19822334333990993, 0.42713387958318594, 0.0, 0.0, 0.0, 0.0], [0.3114512786820407, 0.47512835938774456, -0.014980979315974585, 0.005251886092970892, 0.09943168316915199, 0.0, 0.0, 0.0], [0.49592428502688796, 0.750317044668422, 0.18933020960359448, 0.0004618992363187857, 0.38319793485173526, 0.370131654380227, 0.0, 0.0], [0.23662499128500558, -0.40943817380740527, 0.5446191085418284, 0.4902098714847581, 0.27811030433210987, 0.30505117628541667, 0.2558681889764181, 0.0], [0.6303019491059447, 0.2877604484825774, 0.2319293060649633, 0.38623893216065464, 0.5869665387871188, 0.05794232555054907, -0.08866071593744462, 0.3007403764459231]]]}));</script>\n",
       "                "
      ],
      "text/plain": [
       "<IPython.core.display.HTML object>"
      ]
     },
     "execution_count": 55,
     "metadata": {},
     "output_type": "execute_result"
    }
   ],
   "source": [
    "tokens = ['A', 'B', 'C', 'D', 'E', 'F', 'G', 'H']\n",
    "attention = np.tril(np.random.normal(loc=0.3, scale=0.2, size=(12,8,8)))\n",
    "# render.bundle_source()\n",
    "render.render(\"AttentionPatterns\", tokens=tokens, attention=attention.tolist())"
   ]
  },
  {
   "cell_type": "markdown",
   "metadata": {
    "tags": []
   },
   "source": [
    "## Custom Visualizations\n",
    "\n",
    "The library also supports adding your own custom visualizations, with most\n",
    "common frameworks (and pure JavaScript/TypeScript) supported. To do this, you\n",
    "need to:\n",
    "\n",
    " - Export a [Custom Web \n",
    "   Element](https://developer.mozilla.org/en-US/docs/Web/Web_Components/Using_custom_elements)\n",
    "   using the framework of your choice. See the paths below for some examples.\n",
    "   The custom element must be exported as `CustomVisualization` (it can be a\n",
    "   default or named export). It can accept any number of named parameters, which\n",
    "   will be provided within your Python script.\n",
    " - Use the `build.render()` function in Python to render a visualization directly (as\n",
    "   below), or alternative you can define and export your own function that calls\n",
    "   this indirectly (so that you can add docstrings and typings)."
   ]
  },
  {
   "cell_type": "code",
   "execution_count": 54,
   "metadata": {},
   "outputs": [
    {
     "name": "stdout",
     "output_type": "stream",
     "text": [
      "index.umd.js\n"
     ]
    },
    {
     "data": {
      "text/html": [
       "\n",
       "                <div id=\"circuitsvis-177603\"/>\n",
       "                <script crossorigin type=\"module\">\n",
       "                // Import React\n",
       "                import \"https://unpkg.com/react@18/umd/react.production.min.js\";\n",
       "                import \"https://unpkg.com/react-dom@18/umd/react-dom.production.min.js\";\n",
       "\n",
       "                // Load bundled components\n",
       "                !function(e,t){\"object\"==typeof exports&&\"undefined\"!=typeof module?t(exports,require(\"react\"),require(\"@tensorflow/tfjs\"),require(\"tinycolor2\")):\"function\"==typeof define&&define.amd?define([\"exports\",\"react\",\"@tensorflow/tfjs\",\"tinycolor2\"],t):t((e=\"undefined\"!=typeof globalThis?globalThis:e||self).CircuitsVis={},e.React,e.tfjs,e.tinycolor)}(this,(function(e,t,n,o){\"use strict\";function r({coloredAttention:e,style:o={},isSelected:r=!1}){const l=t.useRef(null);return t.useEffect((()=>{const t=l.current;n.browser.toPixels(e.toInt(),t)}),[e]),t.createElement(\"canvas\",{ref:l,style:{imageRendering:\"pixelated\",borderColor:r?\"rgba(0,0,200,0.5)\":\"#DDD\",borderStyle:\"solid\",borderWidth:1,boxShadow:r?\"0px 0px 3px 3px rgba(0,0,200,0.4)\":void 0,width:200,...o}})}var l;function s({focusedToken:e,onClickToken:n,onMouseEnterToken:r,onMouseLeaveToken:s,maxAttentionAcrossHeads:i,text:c,tokenIndex:a,tokensView:u}){const d=null!==e&&e===a,f=function(e,t,n,o){let r=t,s=t,i=0,c=t;return\"number\"==typeof o&&n===l.DESTINATION_TO_SOURCE?(r=o,s=o,i=t,c=t):\"number\"==typeof o&&n===l.SOURCE_TO_DESTINATION&&(r=t,s=t,i=o,c=o),e.slice([r,i],[s+1-r,c+1-i])}(i,a,u,e),m=f.mean(0).mean(0),[E,T,k]=m.arraySync(),p=o({r:E,g:T,b:k}),y=p.getBrightness()<180?\"white\":\"black\";return t.createElement(\"button\",{style:{backgroundColor:p.toRgbString(),borderColor:\"#DDD\",borderStyle:\"solid\",borderWidth:0,borderRightWidth:1,color:y,display:\"inline-block\",marginBottom:3,padding:\"3px 0px\",boxShadow:d?\"0px 0px 3px 3px rgba(0,0,200,0.4)\":void 0},onClick:()=>n(a),onMouseEnter:()=>r(a),onMouseLeave:s,dangerouslySetInnerHTML:{__html:c.replace(\" \",\"&nbsp;\")}})}function i({coloredAttention:e,focusedHead:o,focusedToken:r,onClickToken:l,onMouseEnterToken:i,onMouseLeaveToken:c,tokens:a,tokensView:u}){const d=\"number\"==typeof o?e.slice([o],[1]):e,f=n.einsum(\"hdsc -> dsch\",d).min(3);return t.createElement(\"div\",null,a.map(((e,n)=>t.createElement(s,{focusedToken:r,onClickToken:l,onMouseEnterToken:i,onMouseLeaveToken:c,key:n,maxAttentionAcrossHeads:f,text:e,tokenIndex:n,tokensView:u}))))}function c(){const[e,n]=t.useState(),[o,r]=t.useState();return{focused:null!=o?o:e,onClick:function(e){r(o===e?void 0:e)},onMouseEnter:function(e){n(e)},onMouseLeave:function(){n(void 0)}}}!function(e){e.DESTINATION_TO_SOURCE=\"DESTINATION_TO_SOURCE\",e.SOURCE_TO_DESTINATION=\"SOURCE_TO_DESTINATION\"}(l||(l={})),e.AttentionPatterns=function({tokens:e,attention:s}){const[a,u]=t.useState(l.DESTINATION_TO_SOURCE),{focused:d,onClick:f,onMouseEnter:m,onMouseLeave:E}=c(),{focused:T,onClick:k,onMouseEnter:p,onMouseLeave:y}=c(),S=t.useMemo((()=>function(e){const t=n.tensor(e).arraySync(),r=t.map(((e,n)=>e.map((e=>e.map((e=>{const r=o({h:n/t.length*360,s:.8,l:1-e}),{r:l,g:s,b:i}=r.toRgb();return[l,s,i]}))))));return n.tensor(r)}(s)),[s]),g=S.unstack(0),b=n.einsum(\"hdsc -> dsch\",S).min(3),h=\"number\"==typeof d?b:g[d];return t.createElement(\"div\",null,t.createElement(\"div\",{style:{display:\"flex\"}},t.createElement(\"div\",null,t.createElement(\"h4\",null,\"Attention Patterns\"),t.createElement(r,{coloredAttention:h})),t.createElement(\"div\",{style:{marginLeft:15}},t.createElement(\"h4\",null,\"Head selector\",t.createElement(\"span\",{style:{fontWeight:\"normal\"}},\" \",\"(hover to focus, click to lock)\")),t.createElement(\"div\",{style:{display:\"flex\",flexWrap:\"wrap\"}},g.map(((e,n)=>t.createElement(\"figure\",{key:n,style:{margin:0,marginRight:15},onClick:()=>f(n),onMouseEnter:()=>m(n),onMouseLeave:E},t.createElement(r,{coloredAttention:e,style:{width:80},isSelected:n===d}),t.createElement(\"figcaption\",null,\"Head \",n))))))),t.createElement(\"div\",{className:\"tokens\"},t.createElement(\"h4\",{style:{display:\"inline-block\",marginRight:15}},\"Tokens\",t.createElement(\"span\",{style:{fontWeight:\"normal\"}},\" (click to focus)\")),t.createElement(\"select\",{value:a,onChange:e=>u(e.target.value)},t.createElement(\"option\",{value:l.DESTINATION_TO_SOURCE},\"Source ← Destination\"),t.createElement(\"option\",{value:l.SOURCE_TO_DESTINATION},\"Destination ← Source\")),t.createElement(\"div\",null,t.createElement(i,{coloredAttention:S,focusedHead:d,focusedToken:T,onClickToken:k,onMouseEnterToken:p,onMouseLeaveToken:y,tokens:e,tokensView:a}))))},e.Hello=function({name:e}){const[n,o]=t.useState(1);return t.createElement(\"p\",null,\"Hello, \",e,\"!\")}}));\n",
       "//# sourceMappingURL=index.umd.js.map\n",
       "\n",
       "                \n",
       "                console.log(CircuitsVis);\n",
       "\n",
       "                // Render the specific component\n",
       "                const domContainer = document.querySelector('#circuitsvis-177603');\n",
       "                const root = ReactDOM.createRoot(domContainer);\n",
       "                const e = React.createElement;\n",
       "                root.render(e(CircuitsVis.Hello, {\"name\": \"Bob\"}));</script>\n",
       "                "
      ],
      "text/plain": [
       "<IPython.core.display.HTML object>"
      ]
     },
     "execution_count": 54,
     "metadata": {},
     "output_type": "execute_result"
    }
   ],
   "source": [
    "# render.bundle_source()\n",
    "render.render(\"Hello\", name=\"Bob\")"
   ]
  }
 ],
 "metadata": {
  "kernelspec": {
   "display_name": "Python 3 (ipykernel)",
   "language": "python",
   "name": "python3"
  },
  "language_info": {
   "codemirror_mode": {
    "name": "ipython",
    "version": 3
   },
   "file_extension": ".py",
   "mimetype": "text/x-python",
   "name": "python",
   "nbconvert_exporter": "python",
   "pygments_lexer": "ipython3",
   "version": "3.10.8"
  },
  "vscode": {
   "interpreter": {
    "hash": "949777d72b0d2535278d3dc13498b2535136f6dfe0678499012e853ee9abcab1"
   }
  }
 },
 "nbformat": 4,
 "nbformat_minor": 4
}
