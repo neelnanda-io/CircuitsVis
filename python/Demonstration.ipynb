{
 "cells": [
  {
   "cell_type": "markdown",
   "metadata": {},
   "source": [
    "# Demonstration"
   ]
  },
  {
   "cell_type": "markdown",
   "metadata": {
    "tags": []
   },
   "source": [
    "## Setup\n",
    "\n",
    "When working in development mode, run the below to allow reloading of any\n",
    "JavaScript/Python changes. Otherwise just import as usual."
   ]
  },
  {
   "cell_type": "code",
   "execution_count": 1,
   "metadata": {},
   "outputs": [],
   "source": [
    "# Enable python import reloading\n",
    "%load_ext autoreload\n",
    "%autoreload 2\n",
    "\n",
    "# Imports\n",
    "from circuitsvis import render\n",
    "from pathlib import Path\n",
    "from einops import rearrange\n",
    "import numpy as np\n",
    "import json"
   ]
  },
  {
   "cell_type": "markdown",
   "metadata": {
    "tags": []
   },
   "source": [
    "## Mechanistic Interpretability: Built In Visualizations"
   ]
  },
  {
   "cell_type": "markdown",
   "metadata": {},
   "source": [
    "### Hello example"
   ]
  },
  {
   "cell_type": "code",
   "execution_count": null,
   "metadata": {},
   "outputs": [],
   "source": [
    "# examples.Hello(name=\"Bob\")"
   ]
  },
  {
   "cell_type": "markdown",
   "metadata": {},
   "source": [
    "### Activations"
   ]
  },
  {
   "cell_type": "markdown",
   "metadata": {},
   "source": [
    "#### Text Neuron Activations"
   ]
  },
  {
   "cell_type": "code",
   "execution_count": null,
   "metadata": {},
   "outputs": [],
   "source": [
    "# tokens = ['A', 'B', 'C', 'D', 'E', 'F', 'G', 'H']\n",
    "# token_activations = np.random.normal(loc=0.3, scale=0.2, size=(8,))\n",
    "\n",
    "# activations.TextNeuronActivations(tokens=tokens, activations=token_activations, neuron_name=\"1234\")"
   ]
  },
  {
   "cell_type": "markdown",
   "metadata": {},
   "source": [
    "### Attention"
   ]
  },
  {
   "cell_type": "markdown",
   "metadata": {},
   "source": [
    "#### Attention Patterns"
   ]
  },
  {
   "cell_type": "code",
   "execution_count": null,
   "metadata": {},
   "outputs": [],
   "source": [
    "tokens = ['A', 'B', 'C', 'D', 'E', 'F', 'G', 'H']\n",
    "attention = np.tril(np.random.normal(loc=0.3, scale=0.2, size=(12,8,8)))\n",
    "# render.bundle_source()\n",
    "render.render(\"AttentionPatterns\", tokens=tokens, attention=attention.tolist())"
   ]
  },
  {
   "cell_type": "markdown",
   "metadata": {
    "tags": []
   },
   "source": [
    "## Custom Visualizations\n",
    "\n",
    "The library also supports adding your own custom visualizations, with most\n",
    "common frameworks (and pure JavaScript/TypeScript) supported. To do this, you\n",
    "need to:\n",
    "\n",
    " - Export a [Custom Web \n",
    "   Element](https://developer.mozilla.org/en-US/docs/Web/Web_Components/Using_custom_elements)\n",
    "   using the framework of your choice. See the paths below for some examples.\n",
    "   The custom element must be exported as `CustomVisualization` (it can be a\n",
    "   default or named export). It can accept any number of named parameters, which\n",
    "   will be provided within your Python script.\n",
    " - Use the `build.render()` function in Python to render a visualization directly (as\n",
    "   below), or alternative you can define and export your own function that calls\n",
    "   this indirectly (so that you can add docstrings and typings)."
   ]
  },
  {
   "cell_type": "code",
   "execution_count": 2,
   "metadata": {},
   "outputs": [
    {
     "name": "stdout",
     "output_type": "stream",
     "text": [
      "index.umd.js\n"
     ]
    },
    {
     "data": {
      "text/html": [
       "\n",
       "                <div id=\"circuitsvis-256052\"/>\n",
       "                <script crossorigin type=\"module\">\n",
       "                // Import React\n",
       "                import \"https://unpkg.com/react@18/umd/react.production.min.js\";\n",
       "                import \"https://unpkg.com/react-dom@18/umd/react-dom.production.min.js\";\n",
       "\n",
       "                // Load bundled components\n",
       "                !function(e,n){\"object\"==typeof exports&&\"undefined\"!=typeof module?n(exports,require(\"react\"),require(\"@tensorflow/tfjs\"),require(\"tinycolor2\")):\"function\"==typeof define&&define.amd?define([\"exports\",\"react\",\"@tensorflow/tfjs\",\"tinycolor2\"],n):n((e=\"undefined\"!=typeof globalThis?globalThis:e||self).CircuitsVis={},e.React,e.tfjs,e.tinycolor)}(this,(function(e,n,t,o){\"use strict\";function l({coloredAttention:e,style:o={},isSelected:l=!1}){const r=n.useRef(null);return n.useEffect((()=>{const n=r.current;t.browser.toPixels(e.toInt(),n)}),[e]),n.createElement(\"canvas\",{ref:r,style:{imageRendering:\"pixelated\",borderColor:l?\"rgba(0,0,200,0.5)\":\"#DDD\",borderStyle:\"solid\",borderWidth:1,boxShadow:l?\"0px 0px 3px 3px rgba(0,0,200,0.4)\":void 0,width:200,...o}})}var r;function s({focusedToken:e,onClickToken:t,onMouseEnterToken:l,onMouseLeaveToken:s,maxAttentionAcrossHeads:i,text:c,tokenIndex:a,tokensView:u}){const d=null!==e&&e===a,f=function(e,n,t,o){let l=n,s=n,i=0,c=n;return\"number\"==typeof o&&t===r.DESTINATION_TO_SOURCE?(l=o,s=o,i=n,c=n):\"number\"==typeof o&&t===r.SOURCE_TO_DESTINATION&&(l=n,s=n,i=o,c=o),e.slice([l,i],[s+1-l,c+1-i])}(i,a,u,e),m=f.mean(0).mean(0),[E,T,k]=m.arraySync(),p=o({r:E,g:T,b:k}),y=p.getBrightness()<180?\"white\":\"black\";return n.createElement(\"button\",{style:{backgroundColor:p.toRgbString(),borderColor:\"#DDD\",borderStyle:\"solid\",borderWidth:0,borderRightWidth:1,color:y,display:\"inline-block\",marginBottom:3,padding:\"3px 0px\",boxShadow:d?\"0px 0px 3px 3px rgba(0,0,200,0.4)\":void 0},onClick:()=>t(a),onMouseEnter:()=>l(a),onMouseLeave:s,dangerouslySetInnerHTML:{__html:c.replace(\" \",\"&nbsp;\")}})}function i({coloredAttention:e,focusedHead:o,focusedToken:l,onClickToken:r,onMouseEnterToken:i,onMouseLeaveToken:c,tokens:a,tokensView:u}){const d=\"number\"==typeof o?e.slice([o],[1]):e,f=t.einsum(\"hdsc -> dsch\",d).min(3);return n.createElement(\"div\",null,a.map(((e,t)=>n.createElement(s,{focusedToken:l,onClickToken:r,onMouseEnterToken:i,onMouseLeaveToken:c,key:t,maxAttentionAcrossHeads:f,text:e,tokenIndex:t,tokensView:u}))))}function c(){const[e,t]=n.useState(null),[o,l]=n.useState(null);return{focused:null!=o?o:e,onClick:function(e){l(o===e?null:e)},onMouseEnter:function(e){t(e)},onMouseLeave:function(){t(null)}}}!function(e){e.DESTINATION_TO_SOURCE=\"DESTINATION_TO_SOURCE\",e.SOURCE_TO_DESTINATION=\"SOURCE_TO_DESTINATION\"}(r||(r={})),e.AttentionPatterns=function({tokens:e,attention:s}){const[a,u]=n.useState(r.DESTINATION_TO_SOURCE),{focused:d,onClick:f,onMouseEnter:m,onMouseLeave:E}=c(),{focused:T,onClick:k,onMouseEnter:p,onMouseLeave:y}=c(),S=n.useMemo((()=>function(e){const n=t.tensor(e).arraySync(),l=n.map(((e,t)=>e.map((e=>e.map((e=>{const l=o({h:t/n.length*360,s:.8,l:1-e}),{r:r,g:s,b:i}=l.toRgb();return[r,s,i]}))))));return t.tensor(l)}(s)),[s]),g=S.unstack(0),b=t.einsum(\"hdsc -> dsch\",S).min(3),h=null===d?b:g[d];return n.createElement(\"div\",null,n.createElement(\"div\",{style:{display:\"flex\"}},n.createElement(\"div\",null,n.createElement(\"h4\",null,\"Attention Patterns\"),n.createElement(l,{coloredAttention:h})),n.createElement(\"div\",{style:{marginLeft:15}},n.createElement(\"h4\",null,\"Head selector\",n.createElement(\"span\",{style:{fontWeight:\"normal\"}},\" \",\"(hover to focus, click to lock)\")),n.createElement(\"div\",{style:{display:\"flex\",flexWrap:\"wrap\"}},g.map(((e,t)=>n.createElement(\"figure\",{key:t,style:{margin:0,marginRight:15},onClick:()=>f(t),onMouseEnter:()=>m(t),onMouseLeave:E},n.createElement(l,{coloredAttention:e,style:{width:80},isSelected:t===d}),n.createElement(\"figcaption\",null,\"Head \",t))))))),n.createElement(\"div\",{className:\"tokens\"},n.createElement(\"h4\",{style:{display:\"inline-block\",marginRight:15}},\"Tokens\",n.createElement(\"span\",{style:{fontWeight:\"normal\"}},\" (click to focus)\")),n.createElement(\"select\",{value:a,onChange:e=>u(e.target.value)},n.createElement(\"option\",{value:r.DESTINATION_TO_SOURCE},\"Source ← Destination\"),n.createElement(\"option\",{value:r.SOURCE_TO_DESTINATION},\"Destination ← Source\")),n.createElement(\"div\",null,n.createElement(i,{coloredAttention:S,focusedHead:d,focusedToken:T,onClickToken:k,onMouseEnterToken:p,onMouseLeaveToken:y,tokens:e,tokensView:a}))))},e.Hello=function({name:e}){const[t,o]=n.useState(1);return n.createElement(\"p\",null,\"Hello, \",e,\"!\")}}));\n",
       "//# sourceMappingURL=index.umd.js.map\n",
       "\n",
       "                \n",
       "                console.log(CircuitsVis);\n",
       "\n",
       "                // Render the specific component\n",
       "                const domContainer = document.querySelector('#circuitsvis-256052');\n",
       "                const root = ReactDOM.createRoot(domContainer);\n",
       "                const e = React.createElement;\n",
       "                root.render(e(CircuitsVis.Hello, {\"name\": \"Bob\"}));</script>\n",
       "                "
      ],
      "text/plain": [
       "<IPython.core.display.HTML object>"
      ]
     },
     "execution_count": 2,
     "metadata": {},
     "output_type": "execute_result"
    }
   ],
   "source": [
    "# render.bundle_source()\n",
    "render.render(\"Hello\", name=\"Bob\")"
   ]
  }
 ],
 "metadata": {
  "kernelspec": {
   "display_name": "Python 3 (ipykernel)",
   "language": "python",
   "name": "python3"
  },
  "language_info": {
   "codemirror_mode": {
    "name": "ipython",
    "version": 3
   },
   "file_extension": ".py",
   "mimetype": "text/x-python",
   "name": "python",
   "nbconvert_exporter": "python",
   "pygments_lexer": "ipython3",
   "version": "3.10.8"
  },
  "vscode": {
   "interpreter": {
    "hash": "949777d72b0d2535278d3dc13498b2535136f6dfe0678499012e853ee9abcab1"
   }
  }
 },
 "nbformat": 4,
 "nbformat_minor": 4
}
